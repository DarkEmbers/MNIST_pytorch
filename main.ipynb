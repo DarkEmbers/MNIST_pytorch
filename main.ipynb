{
 "cells": [
  {
   "cell_type": "code",
   "execution_count": 17,
   "metadata": {},
   "outputs": [],
   "source": [
    "import torch\n",
    "from torch import nn\n",
    "from torch.nn import functional as F\n",
    "from torch import optim\n",
    "from torch.utils.data import DataLoader\n",
    "from torchvision import datasets\n",
    "from torchvision import transforms"
   ]
  },
  {
   "cell_type": "markdown",
   "metadata": {},
   "source": [
    "# Setup Dataset"
   ]
  },
  {
   "cell_type": "code",
   "execution_count": 18,
   "metadata": {},
   "outputs": [
    {
     "name": "stdout",
     "output_type": "stream",
     "text": [
      "torch.Size([60000, 28, 28])\n",
      "torch.Size([10000, 28, 28])\n"
     ]
    }
   ],
   "source": [
    "train_data = datasets.MNIST(root='mnist', train=True, download=True, transform=transforms.ToTensor())\n",
    "test_data = datasets.MNIST(root='mnist', train=False, download=True, transform=transforms.ToTensor())\n",
    "print(train_data.data.shape), print(test_data.data.shape)\n",
    "\n",
    "# Data loaders\n",
    "loaders = {\n",
    "\t'train': DataLoader(train_data, batch_size=100, shuffle=True, num_workers=1),\n",
    "\t'test': DataLoader(test_data, batch_size=100, shuffle=True, num_workers=1)\n",
    "}"
   ]
  },
  {
   "cell_type": "markdown",
   "metadata": {},
   "source": [
    "# Build Model"
   ]
  },
  {
   "cell_type": "code",
   "execution_count": 47,
   "metadata": {},
   "outputs": [],
   "source": [
    "class MNISTModel(nn.Module):\n",
    "\tdef __init__(self):\n",
    "\t\tsuper(MNISTModel, self).__init__()\n",
    "\t\tself.conv1 = nn.Conv2d(1, 10, kernel_size=5)\n",
    "\t\tself.conv2 = nn.Conv2d(10, 20, kernel_size=5)\n",
    "\t\tself.conv2_drop = nn.Dropout2d()\n",
    "\t\tself.fc1 = nn.Linear(320, 50)\n",
    "\t\tself.fc2 = nn.Linear(50, 10)\n",
    "\n",
    "\tdef forward(self, x):\n",
    "\t\tx = F.relu(F.max_pool2d(self.conv1(x), 2)) # Layer 1\n",
    "\t\tx = F.relu(F.max_pool2d(self.conv2_drop(self.conv2(x)), 2)) # Layer 2\n",
    "\t\tx = x.view(-1, 320)\n",
    "\t\tx = F.relu(self.fc1(x)) # Layer 3\n",
    "\t\tx = self.fc2(F.dropout(x, training=self.training)) # Layer 4\n",
    "\t\treturn F.softmax(x)\n",
    "\t\n",
    "device = \"cuda\" if torch.cuda.is_available() else \"cpu\"\n",
    "model = MNISTModel().to(device)\n",
    "\n",
    "# Loss function and optimizer\n",
    "loss_fn = nn.CrossEntropyLoss()\n",
    "optimizer = optim.Adam(model.parameters(), lr=0.001)"
   ]
  },
  {
   "cell_type": "markdown",
   "metadata": {},
   "source": [
    "# Train"
   ]
  },
  {
   "cell_type": "code",
   "execution_count": 48,
   "metadata": {},
   "outputs": [],
   "source": [
    "from tqdm import tqdm\n",
    "\n",
    "def train(epoch):\n",
    "\tmodel.train()\n",
    "\tloop = tqdm(loaders['train'], leave=False)\n",
    "\tfor data, target in loop:\n",
    "\t\tdata, target = data.to(device), target.to(device)\n",
    "\t\tresults = model(data)\n",
    "\t\toptimizer.zero_grad()\n",
    "\t\tloss = loss_fn(results, target)\n",
    "\t\tloss.backward()\n",
    "\t\toptimizer.step()\n",
    "\t\tloop.set_description(f\"Epoch {epoch}\")\n",
    "\t\tloop.set_postfix(loss=loss.item())\n",
    "\n",
    "def test():\n",
    "\tmodel.eval()\n",
    "\ttest_loss = 0\n",
    "\tcorrect = 0\n",
    "\n",
    "\twith torch.inference_mode():\n",
    "\t\tfor data, target in loaders['test']:\n",
    "\t\t\tdata, target = data.to(device), target.to(device)\n",
    "\t\t\tresults = model(data) # Forward pass\n",
    "\t\t\ttest_loss += loss_fn(results, target).item()\n",
    "\t\t\tpred = results.argmax(dim=1, keepdim=True)\n",
    "\t\t\tcorrect += pred.eq(target.view_as(pred)).sum().item()\n",
    "\n",
    "\ttest_loss /= len(loaders['test'].dataset)\n",
    "\taccuracy = correct / len(loaders['test'].dataset)\n",
    "\tprint(f\"Test Loss {test_loss} | Accuracy {accuracy}\")"
   ]
  },
  {
   "cell_type": "code",
   "execution_count": 49,
   "metadata": {},
   "outputs": [
    {
     "name": "stderr",
     "output_type": "stream",
     "text": [
      "  0%|          | 0/600 [00:00<?, ?it/s]C:\\Users\\tshar\\AppData\\Local\\Temp\\ipykernel_13808\\3187653465.py:16: UserWarning: Implicit dimension choice for softmax has been deprecated. Change the call to include dim=X as an argument.\n",
      "  return F.softmax(x)\n",
      "                                                                      \r"
     ]
    },
    {
     "name": "stdout",
     "output_type": "stream",
     "text": [
      "Test Loss 0.014861737215518952 | Accuracy 0.9751\n"
     ]
    }
   ],
   "source": [
    "epochs = 15\n",
    "for epoch in range(1, epochs + 1):\n",
    "\ttrain(epoch)\n",
    "\n",
    "test()"
   ]
  },
  {
   "cell_type": "markdown",
   "metadata": {},
   "source": [
    "# Predicting"
   ]
  },
  {
   "cell_type": "code",
   "execution_count": 50,
   "metadata": {},
   "outputs": [
    {
     "name": "stdout",
     "output_type": "stream",
     "text": [
      "torch.Size([1, 28, 28])\n",
      "torch.Size([1, 1, 28, 28])\n",
      "Prediction: 5 | Target: 5\n"
     ]
    },
    {
     "name": "stderr",
     "output_type": "stream",
     "text": [
      "C:\\Users\\tshar\\AppData\\Local\\Temp\\ipykernel_13808\\3187653465.py:16: UserWarning: Implicit dimension choice for softmax has been deprecated. Change the call to include dim=X as an argument.\n",
      "  return F.softmax(x)\n"
     ]
    },
    {
     "data": {
      "text/plain": [
       "<matplotlib.image.AxesImage at 0x20e8f11add0>"
      ]
     },
     "execution_count": 50,
     "metadata": {},
     "output_type": "execute_result"
    },
    {
     "data": {
      "image/png": "[encoded data removed]",
      "text/plain": [
       "<Figure size 640x480 with 1 Axes>"
      ]
     },
     "metadata": {},
     "output_type": "display_data"
    }
   ],
   "source": [
    "import matplotlib.pyplot as plt\n",
    "\n",
    "model.eval()\n",
    "data, target = train_data[0]\n",
    "print(data.shape)\n",
    "data = data.unsqueeze(0).to(device)\n",
    "output = model(data)\n",
    "pred = output.argmax(dim=1, keepdim=True)\n",
    "print(data.shape)\n",
    "print(f\"Prediction: {pred.item()} | Target: {target}\")\n",
    "plt.imshow(data.squeeze(0).squeeze(0).cpu().numpy(), cmap='gray')"
   ]
  },
  {
   "cell_type": "markdown",
   "metadata": {},
   "source": [
    "# Save / Load Model"
   ]
  },
  {
   "cell_type": "code",
   "execution_count": 51,
   "metadata": {},
   "outputs": [],
   "source": [
    "import pathlib\n",
    "\n",
    "# Save the model\n",
    "pathlib.Path('models').mkdir(exist_ok=True)\n",
    "torch.save(model.state_dict(), 'models/mnist_cnn.pth')\n",
    "\n",
    "# torch.jit.save(torch.jit.script(model), 'models/mnist_cnn.pth')"
   ]
  },
  {
   "cell_type": "code",
   "execution_count": 52,
   "metadata": {},
   "outputs": [
    {
     "data": {
      "text/plain": [
       "<All keys matched successfully>"
      ]
     },
     "execution_count": 52,
     "metadata": {},
     "output_type": "execute_result"
    }
   ],
   "source": [
    "# Load the model\n",
    "model = MNISTModel().to(device)\n",
    "model.load_state_dict(torch.load('models/mnist_cnn.pth'))"
   ]
  },
  {
   "cell_type": "markdown",
   "metadata": {},
   "source": [
    "# Custom Images"
   ]
  },
  {
   "cell_type": "code",
   "execution_count": 83,
   "metadata": {},
   "outputs": [
    {
     "data": {
      "text/plain": [
       "<matplotlib.image.AxesImage at 0x20e82cb7bd0>"
      ]
     },
     "execution_count": 83,
     "metadata": {},
     "output_type": "execute_result"
    },
    {
     "data": {
      "image/png": "[encoded data removed]",
      "text/plain": [
       "<Figure size 640x480 with 1 Axes>"
      ]
     },
     "metadata": {},
     "output_type": "display_data"
    }
   ],
   "source": [
    "import cv2\n",
    "\n",
    "img = cv2.imread('4.png')\n",
    "img = cv2.cvtColor(img, cv2.COLOR_BGR2GRAY)\n",
    "img = cv2.resize(img, (28, 28))\n",
    "img = cv2.bitwise_not(img) # flip the image\n",
    "plt.imshow(img, cmap='gray')"
   ]
  },
  {
   "cell_type": "code",
   "execution_count": 143,
   "metadata": {},
   "outputs": [
    {
     "name": "stdout",
     "output_type": "stream",
     "text": [
      "Prediction: 4\n"
     ]
    },
    {
     "name": "stderr",
     "output_type": "stream",
     "text": [
      "C:\\Users\\tshar\\AppData\\Local\\Temp\\ipykernel_13808\\3187653465.py:16: UserWarning: Implicit dimension choice for softmax has been deprecated. Change the call to include dim=X as an argument.\n",
      "  return F.softmax(x)\n"
     ]
    }
   ],
   "source": [
    "img_tensor = torch.from_numpy(img)\n",
    "img_tensor = img_tensor.unsqueeze(0).unsqueeze(0).float()\n",
    "img_tensor = img_tensor.to(device)\n",
    "output = model(img_tensor)\n",
    "# acc = 0\n",
    "# for i in range(10000):\n",
    "# \tpred = output.argmax(dim=1, keepdim=True)\n",
    "# \tif pred.item() == 4:\n",
    "# \t\tacc += 1\n",
    "\n",
    "pred = output.argmax(dim=1, keepdim=True)\n",
    "# print(f\"Accuracy: {acc}%\")\n",
    "print(f\"Prediction: {pred.item()}\")"
   ]
  },
  {
   "cell_type": "code",
   "execution_count": null,
   "metadata": {},
   "outputs": [],
   "source": []
  }
 ],
 "metadata": {
  "kernelspec": {
   "display_name": "Python 3",
   "language": "python",
   "name": "python3"
  },
  "language_info": {
   "codemirror_mode": {
    "name": "ipython",
    "version": 3
   },
   "file_extension": ".py",
   "mimetype": "text/x-python",
   "name": "python",
   "nbconvert_exporter": "python",
   "pygments_lexer": "ipython3",
   "version": "3.11.6"
  }
 },
 "nbformat": 4,
 "nbformat_minor": 2
}
